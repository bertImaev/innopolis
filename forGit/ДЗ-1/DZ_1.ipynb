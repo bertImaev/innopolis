{
  "nbformat": 4,
  "nbformat_minor": 0,
  "metadata": {
    "colab": {
      "provenance": []
    },
    "kernelspec": {
      "name": "python3",
      "display_name": "Python 3"
    },
    "language_info": {
      "name": "python"
    }
  },
  "cells": [
    {
      "cell_type": "code",
      "execution_count": null,
      "metadata": {
        "colab": {
          "base_uri": "https://localhost:8080/"
        },
        "id": "4L7GwrgZHdVX",
        "outputId": "80df85d6-1ef4-411e-ad9f-596719676bd4"
      },
      "outputs": [
        {
          "output_type": "stream",
          "name": "stdout",
          "text": [
            "[10]\n"
          ]
        }
      ],
      "source": [
        "# задание №1\n",
        "\n",
        "a = [6, -8, 3]\n",
        "b = [[1], [1], [4]]\n",
        "res = 0\n",
        "for i in range(len(a)):\n",
        "  res = res + a[i]*b[i][0]\n",
        "print([res])"
      ]
    },
    {
      "cell_type": "code",
      "source": [
        "# задание №2\n",
        "\n",
        "a = [[-3, -7], [-10, 6], [0, -6], [-1, -3]]\n",
        "b = [[-8, 9], [4, -2]]\n",
        "res = []\n",
        "for i in range(len(a)):\n",
        "  res.append([a[i][0]*b[0][0] + a[i][1]*b[1][0], a[i][0]*b[0][1] + a[i][1]*b[1][1]])\n",
        "print(res)"
      ],
      "metadata": {
        "colab": {
          "base_uri": "https://localhost:8080/"
        },
        "id": "Ack6S6vJJ5JP",
        "outputId": "1d0dddde-73f2-4e9a-b607-f4214e41bc2f"
      },
      "execution_count": null,
      "outputs": [
        {
          "output_type": "stream",
          "name": "stdout",
          "text": [
            "[[-4, -13], [104, -102], [-24, 12], [-4, -3]]\n"
          ]
        }
      ]
    }
  ]
}