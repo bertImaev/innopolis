{
  "nbformat": 4,
  "nbformat_minor": 0,
  "metadata": {
    "colab": {
      "provenance": []
    },
    "kernelspec": {
      "name": "python3",
      "display_name": "Python 3"
    },
    "language_info": {
      "name": "python"
    }
  },
  "cells": [
    {
      "cell_type": "code",
      "execution_count": 60,
      "metadata": {
        "colab": {
          "base_uri": "https://localhost:8080/"
        },
        "id": "7LD0TO5pL9hR",
        "outputId": "ebabc1ef-3965-4640-bf02-4331f1ab020c"
      },
      "outputs": [
        {
          "output_type": "stream",
          "name": "stdout",
          "text": [
            "Результат вычисления A + 2B:\n",
            "[[ 7  4  1]\n",
            " [-4  1  1]\n",
            " [ 4  8  0]]\n",
            "Результат вычисления B + 2C:\n",
            "[[-1  5]\n",
            " [ 1 -2]\n",
            " [ 4  8]]\n"
          ]
        }
      ],
      "source": [
        "# Задание №1\n",
        "import numpy as np\n",
        "\n",
        "a = np.matrix([[1, 2, 1], [-2, 1, 1]])\n",
        "b = np.matrix([[3, 1], [-1, 0], [2, 4]])\n",
        "c = np.matrix([[-2, 2], [1, -1], [1, 2]])\n",
        "r1 = np.vstack([a, [0, 0 , 0]]) + np.append(2*b, [[0], [0], [0]], axis=1)\n",
        "r2 = b + np.dot(2,c)\n",
        "print('Результат вычисления A + 2B:\\n' + str(r1))\n",
        "print('Результат вычисления B + 2C:\\n' + str(r2))"
      ]
    },
    {
      "cell_type": "code",
      "source": [
        "# Задание №2\n",
        "zero = np.zeros((8,8), dtype=int)\n",
        "zero[1::2,::2] = 1\n",
        "zero[::2,1::2] = 1\n",
        "print('Вывод элементов в шахматном порядке: \\n' + str(zero))"
      ],
      "metadata": {
        "colab": {
          "base_uri": "https://localhost:8080/"
        },
        "id": "IvrkA-wjeNtt",
        "outputId": "604e4050-b165-4fd9-953b-8071e2b6baca"
      },
      "execution_count": 31,
      "outputs": [
        {
          "output_type": "stream",
          "name": "stdout",
          "text": [
            "Вывод элементов в шахматном порядке: \n",
            "[[0 1 0 1 0 1 0 1]\n",
            " [1 0 1 0 1 0 1 0]\n",
            " [0 1 0 1 0 1 0 1]\n",
            " [1 0 1 0 1 0 1 0]\n",
            " [0 1 0 1 0 1 0 1]\n",
            " [1 0 1 0 1 0 1 0]\n",
            " [0 1 0 1 0 1 0 1]\n",
            " [1 0 1 0 1 0 1 0]]\n"
          ]
        }
      ]
    },
    {
      "cell_type": "code",
      "source": [
        "# Задание №3\n",
        "v1 = np.arange(0, 1.5, 0.1)\n",
        "v2 = np.arange(1, 7)\n",
        "v = np.dot(v1.reshape(5, 3), v2.reshape(3, 2))\n",
        "print(v)"
      ],
      "metadata": {
        "colab": {
          "base_uri": "https://localhost:8080/"
        },
        "id": "8QsELvegiF4J",
        "outputId": "3d23753b-18c5-42d8-93a1-ea5c75f66e63"
      },
      "execution_count": 59,
      "outputs": [
        {
          "output_type": "stream",
          "name": "stdout",
          "text": [
            "[[ 1.3  1.6]\n",
            " [ 4.   5.2]\n",
            " [ 6.7  8.8]\n",
            " [ 9.4 12.4]\n",
            " [12.1 16. ]]\n"
          ]
        }
      ]
    },
    {
      "cell_type": "code",
      "source": [
        "# Задание №4\n",
        "a = [1]\n",
        "while len(a) != 36:\n",
        "  a.append(a[-1] + 2)\n",
        "v = np.array(a)\n",
        "res_v = v[v % 3 == 0]\n",
        "print('Исходный вектор:\\n' + str(v))\n",
        "print('Вектор со значениями кратными 3:\\n' + str(res_v))"
      ],
      "metadata": {
        "colab": {
          "base_uri": "https://localhost:8080/"
        },
        "id": "NozLniHBqKDV",
        "outputId": "c064037d-9ed2-463d-bdad-46df687f64c1"
      },
      "execution_count": 69,
      "outputs": [
        {
          "output_type": "stream",
          "name": "stdout",
          "text": [
            "Исходный вектор:\n",
            "[ 1  3  5  7  9 11 13 15 17 19 21 23 25 27 29 31 33 35 37 39 41 43 45 47\n",
            " 49 51 53 55 57 59 61 63 65 67 69 71]\n",
            "Вектор со значениями кратными 3:\n",
            "[ 3  9 15 21 27 33 39 45 51 57 63 69]\n"
          ]
        }
      ]
    }
  ]
}