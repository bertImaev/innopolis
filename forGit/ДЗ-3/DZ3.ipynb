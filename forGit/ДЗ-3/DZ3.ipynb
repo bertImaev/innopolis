{
  "nbformat": 4,
  "nbformat_minor": 0,
  "metadata": {
    "colab": {
      "provenance": [],
      "toc_visible": true
    },
    "kernelspec": {
      "name": "python3",
      "display_name": "Python 3"
    },
    "language_info": {
      "name": "python"
    }
  },
  "cells": [
    {
      "cell_type": "code",
      "execution_count": null,
      "metadata": {
        "colab": {
          "base_uri": "https://localhost:8080/"
        },
        "id": "LfA-gRNgyi-w",
        "outputId": "5b01117d-2fdf-4a8a-a92c-5b4ad7c497d7"
      },
      "outputs": [
        {
          "output_type": "stream",
          "name": "stdout",
          "text": [
            "Имаев Альберт Ринатович\n"
          ]
        }
      ],
      "source": [
        "print('Имаев Альберт Ринатович')"
      ]
    }
  ]
}